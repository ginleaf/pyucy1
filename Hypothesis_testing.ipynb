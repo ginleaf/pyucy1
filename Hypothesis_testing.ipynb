{
 "cells": [
  {
   "cell_type": "code",
   "execution_count": 22,
   "metadata": {},
   "outputs": [],
   "source": [
    "import numpy as np\n",
    "import matplotlib.pyplot as plt\n",
    "import scipy.stats, scipy.special\n",
    "import pandas as pd"
   ]
  },
  {
   "cell_type": "markdown",
   "metadata": {},
   "source": [
    "## Load the data"
   ]
  },
  {
   "cell_type": "code",
   "execution_count": 7,
   "metadata": {},
   "outputs": [],
   "source": [
    "ptable = pd.read_csv('raw_data.csv')"
   ]
  },
  {
   "cell_type": "code",
   "execution_count": 8,
   "metadata": {},
   "outputs": [
    {
     "data": {
      "text/html": [
       "<div>\n",
       "<style scoped>\n",
       "    .dataframe tbody tr th:only-of-type {\n",
       "        vertical-align: middle;\n",
       "    }\n",
       "\n",
       "    .dataframe tbody tr th {\n",
       "        vertical-align: top;\n",
       "    }\n",
       "\n",
       "    .dataframe thead th {\n",
       "        text-align: right;\n",
       "    }\n",
       "</style>\n",
       "<table border=\"1\" class=\"dataframe\">\n",
       "  <thead>\n",
       "    <tr style=\"text-align: right;\">\n",
       "      <th></th>\n",
       "      <th>Radius</th>\n",
       "      <th>Distance</th>\n",
       "      <th>Region</th>\n",
       "    </tr>\n",
       "  </thead>\n",
       "  <tbody>\n",
       "    <tr>\n",
       "      <th>0</th>\n",
       "      <td>0.055488</td>\n",
       "      <td>142.837606</td>\n",
       "      <td>0</td>\n",
       "    </tr>\n",
       "    <tr>\n",
       "      <th>1</th>\n",
       "      <td>0.047447</td>\n",
       "      <td>133.536566</td>\n",
       "      <td>0</td>\n",
       "    </tr>\n",
       "    <tr>\n",
       "      <th>2</th>\n",
       "      <td>0.046957</td>\n",
       "      <td>147.059902</td>\n",
       "      <td>0</td>\n",
       "    </tr>\n",
       "    <tr>\n",
       "      <th>3</th>\n",
       "      <td>0.042353</td>\n",
       "      <td>142.121729</td>\n",
       "      <td>0</td>\n",
       "    </tr>\n",
       "    <tr>\n",
       "      <th>4</th>\n",
       "      <td>0.052495</td>\n",
       "      <td>134.190892</td>\n",
       "      <td>0</td>\n",
       "    </tr>\n",
       "    <tr>\n",
       "      <th>...</th>\n",
       "      <td>...</td>\n",
       "      <td>...</td>\n",
       "      <td>...</td>\n",
       "    </tr>\n",
       "    <tr>\n",
       "      <th>165</th>\n",
       "      <td>0.064011</td>\n",
       "      <td>196.551306</td>\n",
       "      <td>4</td>\n",
       "    </tr>\n",
       "    <tr>\n",
       "      <th>166</th>\n",
       "      <td>0.084666</td>\n",
       "      <td>201.259189</td>\n",
       "      <td>4</td>\n",
       "    </tr>\n",
       "    <tr>\n",
       "      <th>167</th>\n",
       "      <td>0.080907</td>\n",
       "      <td>197.207498</td>\n",
       "      <td>4</td>\n",
       "    </tr>\n",
       "    <tr>\n",
       "      <th>168</th>\n",
       "      <td>0.088905</td>\n",
       "      <td>194.455316</td>\n",
       "      <td>4</td>\n",
       "    </tr>\n",
       "    <tr>\n",
       "      <th>169</th>\n",
       "      <td>0.078220</td>\n",
       "      <td>200.502929</td>\n",
       "      <td>4</td>\n",
       "    </tr>\n",
       "  </tbody>\n",
       "</table>\n",
       "<p>170 rows × 3 columns</p>\n",
       "</div>"
      ],
      "text/plain": [
       "       Radius    Distance  Region\n",
       "0    0.055488  142.837606       0\n",
       "1    0.047447  133.536566       0\n",
       "2    0.046957  147.059902       0\n",
       "3    0.042353  142.121729       0\n",
       "4    0.052495  134.190892       0\n",
       "..        ...         ...     ...\n",
       "165  0.064011  196.551306       4\n",
       "166  0.084666  201.259189       4\n",
       "167  0.080907  197.207498       4\n",
       "168  0.088905  194.455316       4\n",
       "169  0.078220  200.502929       4\n",
       "\n",
       "[170 rows x 3 columns]"
      ]
     },
     "execution_count": 8,
     "metadata": {},
     "output_type": "execute_result"
    }
   ],
   "source": [
    "ptable"
   ]
  },
  {
   "cell_type": "markdown",
   "metadata": {},
   "source": [
    "# Make a histogram of the widths"
   ]
  },
  {
   "cell_type": "code",
   "execution_count": null,
   "metadata": {},
   "outputs": [],
   "source": [
    "# your code here"
   ]
  },
  {
   "cell_type": "markdown",
   "metadata": {},
   "source": [
    "## Make a scatter plot to visualize the data (width vs distance)"
   ]
  },
  {
   "cell_type": "code",
   "execution_count": 39,
   "metadata": {},
   "outputs": [
    {
     "data": {
      "text/plain": [
       "Text(0, 0.5, 'Width [pc]')"
      ]
     },
     "execution_count": 39,
     "metadata": {},
     "output_type": "execute_result"
    },
    {
     "data": {
      "image/png": "[encoded data removed]",
      "text/plain": [
       "<Figure size 432x288 with 1 Axes>"
      ]
     },
     "metadata": {
      "needs_background": "light"
     },
     "output_type": "display_data"
    }
   ],
   "source": [
    "plt.scatter(ptable['Distance'],ptable.Width)\n",
    "plt.xlabel('Distance [pc]')\n",
    "plt.ylabel('Width [pc]')"
   ]
  },
  {
   "cell_type": "markdown",
   "metadata": {},
   "source": [
    "### What do you notice about the data? "
   ]
  },
  {
   "cell_type": "markdown",
   "metadata": {},
   "source": [
    "## Test #1: Are the data correlated?"
   ]
  },
  {
   "cell_type": "code",
   "execution_count": null,
   "metadata": {},
   "outputs": [],
   "source": []
  },
  {
   "cell_type": "markdown",
   "metadata": {},
   "source": [
    "### Hint: Use the Pearson and Spearman correlation tests from scipy"
   ]
  },
  {
   "cell_type": "code",
   "execution_count": null,
   "metadata": {},
   "outputs": [],
   "source": [
    "# your code here"
   ]
  },
  {
   "cell_type": "markdown",
   "metadata": {},
   "source": [
    "### How do you interpret the result?"
   ]
  },
  {
   "cell_type": "markdown",
   "metadata": {},
   "source": [
    "..."
   ]
  },
  {
   "cell_type": "markdown",
   "metadata": {},
   "source": [
    "## The data are measurements of radii for different clouds, located at different distances from the Sun. Select the data from two clouds (region # 0 and  2)"
   ]
  },
  {
   "cell_type": "code",
   "execution_count": null,
   "metadata": {},
   "outputs": [],
   "source": []
  },
  {
   "cell_type": "markdown",
   "metadata": {},
   "source": [
    "# Test 2: Are the data consistent with the same parent distribution?"
   ]
  },
  {
   "cell_type": "markdown",
   "metadata": {},
   "source": [
    "<div class=\"alert alert-block alert-success\">\n",
    "    \n",
    "### But first: A primer on probabilities & distributions. \n",
    "\n",
    "##### Probability density functions and cumulative distribution functions\n",
    "\n",
    "For a continuous random variable x, the corresponding probability density function (PDF) is defined as an integrable function f(x) that is non-negative, and with an area under the curve (integral) equal to 1, such that the probability of observing x in the interval (a,b) is given as:\n",
    "\n",
    "$ P (\\alpha < x < \\beta) = \\int_\\alpha^\\beta f(x) dx$\n",
    "\n",
    "and recall the probability of x being *somewhere* is 1:\n",
    "\n",
    "$ P(-\\infty < x < \\infty) = \\int_{-\\infty}^{+\\infty} f(x) dx = 1 $\n",
    "\n",
    "</div>"
   ]
  },
  {
   "attachments": {
    "PDF.png": {
     "image/png": "[encoded data removed]"
    }
   },
   "cell_type": "markdown",
   "metadata": {},
   "source": [
    "![PDF.png](attachment:PDF.png)"
   ]
  },
  {
   "cell_type": "markdown",
   "metadata": {},
   "source": [
    "<div class=\"alert alert-block alert-success\"> \n",
    "A cumulative distribution function (CDF) $F(x)$ is a monotonic, non-decreasing function in the support of $f(x)$, and evaluated as x, defines the probability that continuous random variable x will take a value less than or equal to b:\n",
    "\n",
    "$P( x < b) = F(x) =  \\int_{-\\infty}^b f(x) dx$\n",
    "</div>"
   ]
  },
  {
   "cell_type": "markdown",
   "metadata": {},
   "source": [
    "### Examples of PDFs and their corresponding CDFs:"
   ]
  },
  {
   "cell_type": "code",
   "execution_count": 32,
   "metadata": {},
   "outputs": [
    {
     "data": {
      "image/png": "[encoded data removed]",
      "text/plain": [
       "<Figure size 864x216 with 2 Axes>"
      ]
     },
     "metadata": {
      "needs_background": "light"
     },
     "output_type": "display_data"
    }
   ],
   "source": [
    "# define our random variable values\n",
    "x = np.linspace(-10,10,100)\n",
    "# Define two functions as PDF examples\n",
    "sigma1 = 1.\n",
    "mu1 = 2.\n",
    "f1 = 1/sigma1/np.sqrt(2*np.pi) * np.exp(-(x - mu1)**2 / (2*sigma1**2))\n",
    "\n",
    "sigma2 = 3\n",
    "mu2 = 0.\n",
    "f2 = 1/sigma2/np.sqrt(2*np.pi) * np.exp(-(x - mu2)**2 / (2*sigma2**2))\n",
    "\n",
    "# and the corresponding CDF:\n",
    "F1 = 1/2. * (1 + scipy.special.erf(((x - mu1)/ (sigma1 * np.sqrt(2.)) )) )\n",
    "F2 = 1/2. * (1 + scipy.special.erf(((x - mu2)/ (sigma2 * np.sqrt(2.)) )) )\n",
    "\n",
    "f, ax = plt.subplots(figsize = (12,3), nrows = 1, ncols = 2)\n",
    "ax[0].plot(x,f1)\n",
    "ax[1].plot(x,F1)\n",
    "\n",
    "ax[0].plot(x,f2)\n",
    "ax[1].plot(x,F2)\n",
    "ax[0].set_title('PDF')\n",
    "ax[1].set_title('CDF')\n",
    "\n",
    "ax[0].set_xlabel('x')\n",
    "ax[1].set_xlabel('x')\n",
    "\n",
    "plt.show()"
   ]
  },
  {
   "cell_type": "code",
   "execution_count": 33,
   "metadata": {},
   "outputs": [],
   "source": [
    "# Step 1: Plot a histogram of radii in each cloud. This can be loosely interpreted as a PDF (without the normalization)"
   ]
  },
  {
   "cell_type": "markdown",
   "metadata": {},
   "source": [
    "## How can we tell if the data from cloud 1 and from cloud 2 have the same statistical properties? \n",
    "\n",
    "\n",
    "## The tools of statistics can't immediately tell us 'yes' or 'no', instead they can answer questions of the type: 'how likely is it that A is happening, as opposed to B?'"
   ]
  },
  {
   "cell_type": "markdown",
   "metadata": {},
   "source": [
    "### These types of questions are tackled by *Hypothesis testing*."
   ]
  },
  {
   "cell_type": "markdown",
   "metadata": {},
   "source": [
    "<div class=\"alert alert-block alert-success\">\n",
    "    \n",
    "## A primer on Hypotheses, testing them and p-values\n",
    "\n",
    "#### Say we think our data is determined by a process which has a PDF f(x). We want to figure out whether f(x) may indeed be happening. So we make a *hypothesis*, let's say that f(x) were true. Are the data compatible with this hypothesis? \n",
    "#### To check this, we make a measurement $x_{obs}$:\n",
    "</div>"
   ]
  },
  {
   "attachments": {
    "p.png": {
     "image/png": "[encoded data removed]"
    }
   },
   "cell_type": "markdown",
   "metadata": {},
   "source": [
    "![p.png](attachment:p.png)"
   ]
  },
  {
   "cell_type": "markdown",
   "metadata": {},
   "source": [
    "<div class=\"alert alert-block alert-success\">\n",
    "    \n",
    "### Now we can ask: How likely is it that we would observe $x_{obs}$ if our expected process were operating?\n",
    "#### The answer is given by the p-value:\n",
    "\n",
    "$p = P(x \\geq x_{obs} | H) $ *\n",
    "\n",
    "- how likely it is that your data could have occurred if the null hypothesis, H , were true?\n",
    "- the probability of obtaining test results at least as extreme as the result actually observed, under the assumption that the null hypothesis is correct. \n",
    "\n",
    "For example: If your p value is 0.05, that means that 5% of the time you would see a result at least as extreme as the one you found if the null hypothesis was true.\n",
    "\n",
    "<b>Basic idea: if there is only a very small probability to find data with even worse (or equal) compatibility, then H is “disfavoured by the data”.</b>  If the p-value is below a user-defined threshold α (e.g. 0.01) then H is rejected.\n",
    "  \n",
    "  \n",
    "#### A general note on Philosophy of Science: \n",
    " \n",
    "The only way to gain new information is to reject a hypothesis. In Physics we can never be sure that a model/theory (hypothesis) is true. We can only test whether it is incompatible with the data. So our experiments are made to try and disprove models. \n",
    "\n",
    "If we can't disprove a theory, we are stuck with it. Progress comes from trying to prove yourself wrong! Not very intuitive is it?\n",
    "\n",
    "</div>\n",
    "\n",
    "* footnote: This definition refers to a one-sided p-value. Depending on the hypothesis, the f(x) and the data, you can also formulate a 2-sided p-value. E.g. if f(x) is a Gaussian centered on 0, a 2-sided p-value would check whether the data are more extreme than expected f(x) on both sides (negative and positive values)."
   ]
  },
  {
   "cell_type": "markdown",
   "metadata": {},
   "source": [
    "## Let's formulate our question again: are the data from cloud 1 and cloud 2 just random draws from the same parent distribution?"
   ]
  },
  {
   "cell_type": "code",
   "execution_count": 46,
   "metadata": {},
   "outputs": [],
   "source": [
    "# Step 2: Construct and plot CDF for each cloud"
   ]
  },
  {
   "cell_type": "code",
   "execution_count": 47,
   "metadata": {},
   "outputs": [],
   "source": [
    "# Step 3: Compute max distance between the two CDFs"
   ]
  },
  {
   "cell_type": "markdown",
   "metadata": {},
   "source": [
    "## If difference is big, the distributions are likely not the same. But how big is too big?"
   ]
  },
  {
   "cell_type": "markdown",
   "metadata": {},
   "source": [
    "## Let's quantify this with a Monte Carlo sampling test."
   ]
  },
  {
   "cell_type": "code",
   "execution_count": 48,
   "metadata": {},
   "outputs": [],
   "source": [
    "# Draw random samples from each distribution."
   ]
  },
  {
   "cell_type": "code",
   "execution_count": 50,
   "metadata": {},
   "outputs": [],
   "source": [
    "# Calculation of the distance between these new CDFs"
   ]
  },
  {
   "cell_type": "code",
   "execution_count": null,
   "metadata": {},
   "outputs": [],
   "source": [
    "# Repeat 1000 times"
   ]
  },
  {
   "cell_type": "code",
   "execution_count": 51,
   "metadata": {},
   "outputs": [],
   "source": [
    "# Count how often the measured distance appears in this experiment."
   ]
  },
  {
   "cell_type": "markdown",
   "metadata": {},
   "source": [
    "## Congratulations! You've estimated your first p-value!"
   ]
  },
  {
   "cell_type": "code",
   "execution_count": null,
   "metadata": {},
   "outputs": [],
   "source": []
  },
  {
   "cell_type": "code",
   "execution_count": null,
   "metadata": {},
   "outputs": [],
   "source": [
    "## Scipy allows you to compute the p-value quickly with ks_2samp. Use this function to compare to your result."
   ]
  }
 ],
 "metadata": {
  "kernelspec": {
   "display_name": "Python [conda env:python36]",
   "language": "python",
   "name": "conda-env-python36-py"
  },
  "language_info": {
   "codemirror_mode": {
    "name": "ipython",
    "version": 3
   },
   "file_extension": ".py",
   "mimetype": "text/x-python",
   "name": "python",
   "nbconvert_exporter": "python",
   "pygments_lexer": "ipython3",
   "version": "3.6.12"
  }
 },
 "nbformat": 4,
 "nbformat_minor": 2
}
