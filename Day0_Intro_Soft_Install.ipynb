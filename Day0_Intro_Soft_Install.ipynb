{
 "cells": [
  {
   "cell_type": "markdown",
   "metadata": {},
   "source": [
    "## Install dependencies:\n",
    "- python 3+\n",
    "- numpy, matplotlib, scikit-learn\n",
    "- scipy\n",
    "- ROOT\n",
    "- jupyter (to be able to run notebooks)\n",
    "- PIL\n",
    "- pandas\n",
    "- itertools"
   ]
  },
  {
   "cell_type": "markdown",
   "metadata": {},
   "source": [
    "# Workshop overview"
   ]
  },
  {
   "cell_type": "markdown",
   "metadata": {},
   "source": [
    "- Day 0: Intro, goals, software installations\n",
    "- Day 1: Basic image processing & hypothesis testing\n",
    "- Day 2: Fitting & hypothesis testing\n",
    "- Day 3: Machine learning overview & clustering application"
   ]
  },
  {
   "cell_type": "markdown",
   "metadata": {},
   "source": [
    "# Structure & goals"
   ]
  },
  {
   "cell_type": "markdown",
   "metadata": {},
   "source": [
    "2-hour sessions\n",
    "Jupyter notebooks for each day, with hands-on examples based on real research problems\n",
    "\n",
    "\n",
    "By the end of the workshop you will:\n",
    "- have an idea of various data products used in research (images, catalogs...)\n",
    "- be able to implement basic statistical tools for hypothesis testing\n",
    "- ba able to fit functions to noisy data\n",
    "- be able to run a simple clustering example\n",
    "- have an idea of general applications for Machine learning"
   ]
  },
  {
   "cell_type": "markdown",
   "metadata": {},
   "source": [
    "## Philosophy: \n",
    "- Don't be afraid to try things out, failing is the best way to learn.\n",
    "- When in doubt, ask! Instructors as well as whoever is around you (they may have solved the problem)."
   ]
  },
  {
   "cell_type": "code",
   "execution_count": null,
   "metadata": {},
   "outputs": [],
   "source": []
  }
 ],
 "metadata": {
  "kernelspec": {
   "display_name": "Python [conda env:python36]",
   "language": "python",
   "name": "conda-env-python36-py"
  },
  "language_info": {
   "codemirror_mode": {
    "name": "ipython",
    "version": 3
   },
   "file_extension": ".py",
   "mimetype": "text/x-python",
   "name": "python",
   "nbconvert_exporter": "python",
   "pygments_lexer": "ipython3",
   "version": "3.6.12"
  }
 },
 "nbformat": 4,
 "nbformat_minor": 2
}
